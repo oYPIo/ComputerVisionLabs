{
 "cells": [
  {
   "cell_type": "markdown",
   "metadata": {},
   "source": [
    "### <p style=\"text-align: center; margin: 0;\"> Міністерство освіти і науки України </p>\n",
    "### <p style=\"text-align: center; margin: 0;\"> Національний технічний університет України </p>\n",
    "### <p style=\"text-align: center; margin: 0;\"> «Київський політехнічний інститут імені Ігоря Сікорського» </p>\n",
    "### <p style=\"text-align: center; margin: 0;\"> «Інститут прикладного системного аналізу» </p>\n",
    "### <p style=\"text-align: center; margin: 0;\"> Кафедра математичних методів системного аналізу </p>\n",
    "<br>\n",
    "\n",
    "## <p style=\"text-align: center; margin: 0;\"> Звіт </p>\n",
    "### <p style=\"text-align: center; margin: 0;\"> про виконання лабораторної роботи №2 </p>\n",
    "### <p style=\"text-align: center; margin: 0;\"> з дисципліни </p>\n",
    "### <p style=\"text-align: center; margin: 0;\"> «Розпізнавання образів» </p>\n",
    "<br>\n",
    "\n",
    "### <p style=\"text-align: right; margin: 0;\"> Виконали: студенти ІV курсу &emsp;&emsp;</p>\n",
    "### <p style=\"text-align: right; margin: 0;\"> групи  КА-76  &emsp;&emsp;</p>\n",
    "### <p style=\"text-align: right; margin: 0;\"> Панасюк Я.І. &emsp;&emsp;</p>\n",
    "### <p style=\"text-align: right; margin: 0;\"> та групи  КА-74  &emsp;&emsp;</p>\n",
    "### <p style=\"text-align: right; margin: 0;\"> Іванов С.І. &emsp;&emsp;</p>\n",
    "### <p style=\"text-align: right; margin: 0;\"> Перевірила: &emsp;&emsp;&emsp;&emsp;&emsp;&emsp;&emsp;&emsp;&emsp;&ensp;</p>\n",
    "### <p style=\"text-align: right; margin: 0;\"> Дідковська М.В. &emsp;&emsp;</p>\n",
    "<br>\n",
    "\n",
    "### <p style=\"text-align: center; margin: 0;\"> Київ – 2020 </p>\n",
    "<br>\n",
    "<br>"
   ]
  },
  {
   "cell_type": "markdown",
   "metadata": {},
   "source": [
    "<br>"
   ]
  },
  {
   "cell_type": "markdown",
   "metadata": {},
   "source": [
    "# Завдання"
   ]
  },
  {
   "cell_type": "markdown",
   "metadata": {},
   "source": [
    "Для початку реалізувати енкодер та декодер (плеєр) для відеоряду на основі методів оцінки руху. Відповідно вхідним файлом буде відеозапис (наприклад трейлер до Тенет), одним з виходів буде файлик у вашому форматі що містить гіпотетично стиснений відеоряд з наприклад інформації щодо руху кожного третього кадру і два сусідні у повному розмірі (MPEG-7 алгоритми з що ми їх дотично згадували в попередніх лекціях будуть в нагоді). Другим виходом буде власне відтворення відео з вашого файлу. Після того як ви налаштували ваш енкодер і плеєр, йдете до друга по команді що в цей час налаштовував свої енкодер і плеєр на основі іншого алгоритму апроксимації руху і ви починаєте об'єднувати зусилля: користуючись вашими енкодерами ви генеруєте ваші апроксимовані зображення та обчислюєте їх різницю в порівнянні з дійсним зображеннями з оригінального відеоряду, збираючи при цьому візуальні різниці для кожного з методів. Окрім цього слід зібрати метрику швидкодії енкодерів і плеєрів, порівняти отримані результати і залляти їх аналогічним чином в гуглдок. Бонусні бали за опцію datamoshing і запис та відтворення аудіо, підтримку більш ніж одного формату відео, сприйняття стрімів з Youtube."
   ]
  },
  {
   "cell_type": "markdown",
   "metadata": {},
   "source": [
    "<br>"
   ]
  },
  {
   "cell_type": "markdown",
   "metadata": {},
   "source": [
    "# Хід роботи"
   ]
  },
  {
   "cell_type": "markdown",
   "metadata": {},
   "source": [
    "основне завдання + підтримка більш ніж одного формату відео + відео з фреймів-різниць"
   ]
  },
  {
   "cell_type": "markdown",
   "metadata": {},
   "source": [
    "## Алгоритми апроксимації руху"
   ]
  },
  {
   "cell_type": "markdown",
   "metadata": {},
   "source": [
    "### Farneback method opt.flow calculation"
   ]
  },
  {
   "cell_type": "markdown",
   "metadata": {},
   "source": [
    "Encoder"
   ]
  },
  {
   "cell_type": "code",
   "execution_count": 1,
   "metadata": {},
   "outputs": [],
   "source": [
    "import numpy as np\n",
    "import cv2\n",
    "import time\n",
    "\n",
    "# Get our sample video\n",
    "cap = cv2.VideoCapture('walking.avi')\n",
    "\n",
    "# Define the codec and create VideoWriter object\n",
    "fourcc = cv2.VideoWriter_fourcc(*'XVID')\n",
    "frame_width = int(cap.get(3))\n",
    "frame_height = int(cap.get(4))\n",
    "out = cv2.VideoWriter('Farn_encode.avi',fourcc, 20.0, (frame_width,frame_height))\n",
    "\n",
    "# we will aproximate only even frames, while odd frms won't be change\n",
    "odd_frame = True\n",
    "\n",
    "ret, frame1 = cap.read()\n",
    "prvs = cv2.cvtColor(frame1,cv2.COLOR_BGR2GRAY)\n",
    "hsv = np.zeros_like(frame1)\n",
    "hsv[...,1] = 255\n",
    "\n",
    "t_start = time.time()\n",
    "while(cap.isOpened()):\n",
    "    ret, frame2 = cap.read()\n",
    "    if not ret: break\n",
    "    next = cv2.cvtColor(frame2,cv2.COLOR_BGR2GRAY)\n",
    "\n",
    "    flow = cv2.calcOpticalFlowFarneback(prvs,next, None, 0.5, 3, 15, 3, 5, 1.2, 0)\n",
    "    \n",
    "    # Create an image representing our opt.flow\n",
    "    mag, ang = cv2.cartToPolar(flow[...,0], flow[...,1])\n",
    "    hsv[...,0] = ang*180/np.pi/2\n",
    "    hsv[...,2] = cv2.normalize(mag,None,0,255,cv2.NORM_MINMAX)    \n",
    "    frame_flow_rgb = cv2.cvtColor(hsv,cv2.COLOR_HSV2BGR)\n",
    "    \n",
    "    \n",
    "    cv2.imshow('actual footage', frame2)\n",
    "    cv2.imshow('pure optical flow',frame_flow_rgb)\n",
    "    \n",
    "    # write frame to output video.\n",
    "    if(odd_frame):\n",
    "        out.write(frame2)\n",
    "        odd_frame = False\n",
    "    else:\n",
    "        out.write(frame_flow_rgb)\n",
    "        odd_frame = True\n",
    "    \n",
    "    if cv2.waitKey(1) & 0xFF == ord('q'):\n",
    "            break\n",
    "            \n",
    "    # Aaaaand... go to the next frame!\n",
    "    prvs = next\n",
    "\n",
    "t_end = time.time()\n",
    "# time metric\n",
    "Farn_encode_time = t_end - t_start\n",
    "\n",
    "cap.release()\n",
    "out.release()\n",
    "cv2.destroyAllWindows()"
   ]
  },
  {
   "cell_type": "markdown",
   "metadata": {},
   "source": [
    "Decoder"
   ]
  },
  {
   "cell_type": "code",
   "execution_count": 2,
   "metadata": {},
   "outputs": [],
   "source": [
    "import numpy as np\n",
    "import cv2\n",
    "import time\n",
    "\n",
    "# Get our sample video\n",
    "cap = cv2.VideoCapture('walking.avi')\n",
    "\n",
    "# Define the codec and create VideoWriter object\n",
    "fourcc = cv2.VideoWriter_fourcc(*'XVID')\n",
    "frame_width = int(cap.get(3))\n",
    "frame_height = int(cap.get(4))\n",
    "out = cv2.VideoWriter('Farn_decode.avi',fourcc, 20.0, (frame_width,frame_height))\n",
    "\n",
    "# we will aproximate only even frames, while odd frms won't be change\n",
    "odd_frame = True\n",
    "\n",
    "ret, frame1 = cap.read()\n",
    "prvs = cv2.cvtColor(frame1,cv2.COLOR_BGR2GRAY)\n",
    "hsv = np.zeros_like(frame1)\n",
    "hsv[...,1] = 255\n",
    "\n",
    "t_start = time.time()\n",
    "while(cap.isOpened()):\n",
    "    ret, frame2 = cap.read()\n",
    "    if not ret: break\n",
    "    next = cv2.cvtColor(frame2,cv2.COLOR_BGR2GRAY)\n",
    "\n",
    "    flow = cv2.calcOpticalFlowFarneback(prvs,next, None, 0.5, 3, 30, 3, 5, 1.2, 0)\n",
    "    \n",
    "    h, w = flow.shape[:2]\n",
    "    flow = -flow # here we invert the flow in order to get the previous image\n",
    "    flow[:,:,0] += np.arange(w)\n",
    "    flow[:,:,1] += np.arange(h)[:,np.newaxis]\n",
    "\n",
    "    frame_warped = cv2.remap(frame2, flow, None, cv2.INTER_LINEAR)\n",
    "    \n",
    "    cv2.imshow('warped', frame_warped)\n",
    "    \n",
    "    if(odd_frame):\n",
    "        out.write(frame2)\n",
    "        odd_frame = False\n",
    "    else:\n",
    "        out.write(frame_warped)\n",
    "        odd_frame = True\n",
    "    \n",
    "    if cv2.waitKey(1) & 0xFF == ord('q'):\n",
    "            break\n",
    "    \n",
    "    # Aaaaand... go to the next frame!\n",
    "    prvs = next\n",
    "\n",
    "t_end = time.time()\n",
    "# time metric\n",
    "Farn_decode_time = t_end - t_start\n",
    "    \n",
    "cap.release()\n",
    "out.release()\n",
    "cv2.destroyAllWindows()"
   ]
  },
  {
   "cell_type": "markdown",
   "metadata": {},
   "source": [
    "<br>"
   ]
  },
  {
   "cell_type": "markdown",
   "metadata": {},
   "source": [
    "### Dual TV L1 method opt.flow calculation"
   ]
  },
  {
   "cell_type": "markdown",
   "metadata": {},
   "source": [
    "Encoder"
   ]
  },
  {
   "cell_type": "code",
   "execution_count": 3,
   "metadata": {},
   "outputs": [],
   "source": [
    "import numpy as np\n",
    "import cv2\n",
    "import time\n",
    "\n",
    "# Get our sample video\n",
    "cap = cv2.VideoCapture('walking.avi')\n",
    "\n",
    "# Define the codec and create VideoWriter object\n",
    "fourcc = cv2.VideoWriter_fourcc(*'XVID')\n",
    "frame_width = int(cap.get(3))\n",
    "frame_height = int(cap.get(4))\n",
    "out = cv2.VideoWriter('Dual_encode.avi',fourcc, 20.0, (frame_width,frame_height))\n",
    "\n",
    "# we will aproximate only even frames, while odd frms won't be change\n",
    "odd_frame = True\n",
    "\n",
    "ret, frame1 = cap.read()\n",
    "prvs = cv2.cvtColor(frame1,cv2.COLOR_BGR2GRAY)\n",
    "hsv = np.zeros_like(frame1)\n",
    "hsv[...,1] = 255\n",
    "\n",
    "t_start = time.time()\n",
    "while(cap.isOpened()):\n",
    "    ret, frame2 = cap.read()\n",
    "    if not ret: break\n",
    "    next = cv2.cvtColor(frame2,cv2.COLOR_BGR2GRAY)\n",
    "\n",
    "    optical_flow = cv2.optflow.DualTVL1OpticalFlow_create()\n",
    "    flow = optical_flow.calc(prvs, next, None)\n",
    "    \n",
    "    # Create an image representing our opt.flow\n",
    "    mag, ang = cv2.cartToPolar(flow[...,0], flow[...,1])\n",
    "    hsv[...,0] = ang*180/np.pi/2\n",
    "    hsv[...,2] = cv2.normalize(mag,None,0,255,cv2.NORM_MINMAX)    \n",
    "    frame_flow_rgb = cv2.cvtColor(hsv,cv2.COLOR_HSV2BGR)\n",
    "\n",
    "    cv2.imshow('actual footage', frame2)\n",
    "    cv2.imshow('pure optical flow',frame_flow_rgb)\n",
    "    \n",
    "    # write frame to output video.\n",
    "    if(odd_frame):\n",
    "        out.write(frame2)\n",
    "        odd_frame = False\n",
    "    else:\n",
    "        out.write(frame_flow_rgb)\n",
    "        odd_frame = True\n",
    "    \n",
    "    if cv2.waitKey(1) & 0xFF == ord('q'):\n",
    "            break\n",
    "            \n",
    "    # Aaaaand... go to the next frame!\n",
    "    prvs = next\n",
    "    \n",
    "t_end = time.time()\n",
    "# time metric\n",
    "Dual_encode_time = t_end - t_start\n",
    "\n",
    "cap.release()\n",
    "out.release()\n",
    "cv2.destroyAllWindows()"
   ]
  },
  {
   "cell_type": "markdown",
   "metadata": {},
   "source": [
    "Decoder"
   ]
  },
  {
   "cell_type": "code",
   "execution_count": 4,
   "metadata": {},
   "outputs": [],
   "source": [
    "import numpy as np\n",
    "import cv2\n",
    "import time\n",
    "\n",
    "# Get our sample video\n",
    "cap = cv2.VideoCapture('walking.avi')\n",
    "\n",
    "# Define the codec and create VideoWriter object\n",
    "fourcc = cv2.VideoWriter_fourcc(*'XVID')\n",
    "frame_width = int(cap.get(3))\n",
    "frame_height = int(cap.get(4))\n",
    "out = cv2.VideoWriter('Dual_decode.avi',fourcc, 20.0, (frame_width,frame_height))\n",
    "odd_frame = True\n",
    "\n",
    "ret, frame1 = cap.read()\n",
    "prvs = cv2.cvtColor(frame1,cv2.COLOR_BGR2GRAY)\n",
    "hsv = np.zeros_like(frame1)\n",
    "hsv[...,1] = 255\n",
    "\n",
    "t_start = time.time()\n",
    "while(cap.isOpened()):\n",
    "    ret, frame2 = cap.read()\n",
    "    if not ret: break\n",
    "    next = cv2.cvtColor(frame2,cv2.COLOR_BGR2GRAY)\n",
    "\n",
    "    optical_flow = cv2.optflow.DualTVL1OpticalFlow_create()\n",
    "    flow = optical_flow.calc(prvs, next, None)\n",
    "    \n",
    "    h, w = flow.shape[:2]\n",
    "    flow = -flow # here we invert the flow in order to get the previous image\n",
    "    flow[:,:,0] += np.arange(w)\n",
    "    flow[:,:,1] += np.arange(h)[:,np.newaxis]\n",
    "\n",
    "    frame_warped = cv2.remap(frame2, flow, None, cv2.INTER_LINEAR)\n",
    "    \n",
    "    cv2.imshow('warped', frame_warped)\n",
    "    \n",
    "    if(odd_frame):\n",
    "        out.write(frame2)\n",
    "        odd_frame = False\n",
    "    else:\n",
    "        out.write(frame_warped)\n",
    "        odd_frame = True\n",
    "    \n",
    "    if cv2.waitKey(1) & 0xFF == ord('q'):\n",
    "            break\n",
    "    \n",
    "    # Aaaaand... go to the next frame!\n",
    "    prvs = next\n",
    "\n",
    "t_end = time.time()\n",
    "# time metric\n",
    "Dual_decode_time = t_end - t_start    \n",
    "    \n",
    "cap.release()\n",
    "out.release()\n",
    "cv2.destroyAllWindows()"
   ]
  },
  {
   "cell_type": "markdown",
   "metadata": {},
   "source": [
    "<br>"
   ]
  },
  {
   "cell_type": "markdown",
   "metadata": {},
   "source": [
    "## Порівняння алгоритмів"
   ]
  },
  {
   "cell_type": "markdown",
   "metadata": {},
   "source": [
    "Точність\n",
    "\n",
    "Створимо відео на якому зображено різницю між двома файлами. "
   ]
  },
  {
   "cell_type": "code",
   "execution_count": 6,
   "metadata": {},
   "outputs": [],
   "source": [
    "import cv2\n",
    "\n",
    "def get_diff(v1,v2):\n",
    "    # Get our sample video\n",
    "    origin = cv2.VideoCapture(v1)\n",
    "    aprox = cv2.VideoCapture(v2)\n",
    "\n",
    "    # Define the codec and create VideoWriter object\n",
    "    fourcc = cv2.VideoWriter_fourcc(*'XVID')\n",
    "    frame_width = int(origin.get(3))\n",
    "    frame_height = int(origin.get(4))\n",
    "    out = cv2.VideoWriter(f'diff_({v1})_&&_({v2}).avi',fourcc, 20.0, (frame_width,frame_height))\n",
    "    \n",
    "    while(origin.isOpened() and aprox.isOpened()):\n",
    "        ret1, frame1 = origin.read()\n",
    "        ret2, frame2 = aprox.read() \n",
    "        if (ret1 == False or ret2 == False): break\n",
    "        \n",
    "        # compute difference\n",
    "        difference = cv2.subtract(frame1, frame2)\n",
    "         \n",
    "        # color the mask red\n",
    "        Conv_hsv_Gray = cv2.cvtColor(difference, cv2.COLOR_BGR2GRAY)\n",
    "        ret, mask = cv2.threshold(Conv_hsv_Gray, 0, 255,cv2.THRESH_BINARY_INV |cv2.THRESH_OTSU)\n",
    "        difference[mask != 255] = [0, 0, 255]\n",
    "        out.write(difference)\n",
    "            \n",
    "    origin.release()\n",
    "    aprox.release()\n",
    "    out.release()\n",
    "    cv2.destroyAllWindows()"
   ]
  },
  {
   "cell_type": "code",
   "execution_count": 7,
   "metadata": {},
   "outputs": [],
   "source": [
    "get_diff('walking', 'Farn_decode')"
   ]
  },
  {
   "cell_type": "code",
   "execution_count": 8,
   "metadata": {},
   "outputs": [],
   "source": [
    "get_diff('walking', 'Dual_decode')"
   ]
  },
  {
   "cell_type": "code",
   "execution_count": 9,
   "metadata": {},
   "outputs": [],
   "source": [
    "get_diff('Dual_decode', 'Farn_decode')"
   ]
  },
  {
   "cell_type": "markdown",
   "metadata": {},
   "source": [
    "Швидкість роботи"
   ]
  },
  {
   "cell_type": "code",
   "execution_count": 10,
   "metadata": {},
   "outputs": [
    {
     "data": {
      "text/plain": [
       "225.7192506790161"
      ]
     },
     "execution_count": 10,
     "metadata": {},
     "output_type": "execute_result"
    }
   ],
   "source": [
    "Farn_encode_time"
   ]
  },
  {
   "cell_type": "code",
   "execution_count": 11,
   "metadata": {},
   "outputs": [
    {
     "data": {
      "text/plain": [
       "223.70712995529175"
      ]
     },
     "execution_count": 11,
     "metadata": {},
     "output_type": "execute_result"
    }
   ],
   "source": [
    "Farn_decode_time"
   ]
  },
  {
   "cell_type": "code",
   "execution_count": 12,
   "metadata": {},
   "outputs": [
    {
     "data": {
      "text/plain": [
       "2637.011543273926"
      ]
     },
     "execution_count": 12,
     "metadata": {},
     "output_type": "execute_result"
    }
   ],
   "source": [
    "Dual_encode_time"
   ]
  },
  {
   "cell_type": "code",
   "execution_count": 13,
   "metadata": {},
   "outputs": [
    {
     "data": {
      "text/plain": [
       "2381.591493368149"
      ]
     },
     "execution_count": 13,
     "metadata": {},
     "output_type": "execute_result"
    }
   ],
   "source": [
    "Dual_decode_time"
   ]
  },
  {
   "cell_type": "markdown",
   "metadata": {},
   "source": [
    "<br>"
   ]
  },
  {
   "cell_type": "markdown",
   "metadata": {},
   "source": [
    "## Аналіз"
   ]
  },
  {
   "cell_type": "markdown",
   "metadata": {},
   "source": [
    "З отриманих візуальних різниць та метрик швидкодії можемо зробити такі висновки:\n",
    "- Farneback показав трохи менші візуальні різниці, в порівнянні з методом Dual TV-L1, хоча різниця для тестових відео виявилась несуттєвою;\n",
    "- Dual TV-L1 був значно повільнішим в роботі, для деяких тестових відео метрики швидкодії цього методу в кілька разів перевищували відповідні метрики для методу Farneback.\n",
    "\n",
    "Варто зазначити, що для значного поліпшення швидкодії цих методів можна подавати на вхід зображення (кадри) меншого розміру, наприклад зменшувати їх вдвічі по обох осях. В нашому прикладі це було наочно видно при подачі на вхід відео із меншою роздільною здатністю і, відповідно, розміром кадрів.\n",
    "\n",
    "Обидва алгоритми, Dual TV-L1 та Farneback є алгоритмами для обчислення щільного (dense) optical flow. Методи апроксимації руху за допомогою Optical Flow демонструють значно кращу точність результатів апроксимації в порівнянні, наприклад, з block matching методами [1]. Вони також демонструють більшу стійкість при роботі із зображеннями зі спотвореннями, так, optical flow методи здатні витримувати поворот об’єкта до 4⁰ та деформацію зсуву до 6 відсотків без втрат в точності апроксимації.\n",
    "\n",
    "Dense optical flow алгоритми, зокрема, працюють із щільним оптичним потоком, тобто вираховують зсув не окремих, а усіх точок зображення, на відміну від sparce або вибіркового оптичного потоку. Вибірковий потік зазвичай вираховується швидше, за щільний, проте деякі методи маєть не таку й значну різницю в швидкодіх та деякі задачі потребують знаходження оптичного потоку для усіх точок зображення.\n",
    "\t\n",
    "Обидва методи працюють з показником інтенсивності точки, тобто яскравості або кольору (для кольорових зображень). Метод Dual TV-L1 ґрунтується на модифікації функціоналу, описаного в методі Horn-Schunck для врахування можливих розривів або переривчастості в оптичному потоці шляхом зміни квадратичних коефіцієнтів [4], і може бути представлений як мінімізація функціоналу, що є сумою повної варіації (Total Variance) векторного поля u та норми"
   ]
  },
  {
   "attachments": {
    "photo_2020-11-06_11-44-23.jpg": {
     "image/jpeg": "[encoded data removed]"
    }
   },
   "cell_type": "markdown",
   "metadata": {},
   "source": [
    "![photo_2020-11-06_11-44-23.jpg](attachment:photo_2020-11-06_11-44-23.jpg)"
   ]
  },
  {
   "cell_type": "markdown",
   "metadata": {},
   "source": [
    "в той час як метод Farneback [3] ґрунтується на ідеї апроксимації зміни інтенсивності в околі точки за допомогою квадратичної форми"
   ]
  },
  {
   "attachments": {
    "photo_2020-11-06_11-44-23%20%282%29.jpg": {
     "image/jpeg": "[encoded data removed]"
    }
   },
   "cell_type": "markdown",
   "metadata": {},
   "source": [
    "![photo_2020-11-06_11-44-23%20%282%29.jpg](attachment:photo_2020-11-06_11-44-23%20%282%29.jpg)"
   ]
  },
  {
   "cell_type": "markdown",
   "metadata": {},
   "source": [
    "Варто відзначити, що обидва методи добре спрацьовують при невеликих зсувах і мають проблеми при зсувах, більших за 1 піксель. В такому випадку рекомендується використовувати multi-scaling: будувати «піраміду» з зображень із меншою роздільною здатністю, ніж оригінал. Алгоритм спочатку проходить по найнижчому рівню піраміди (із найменшою роздільною здатністю) і результат використовується як початкові точки на наступних рівнях [4].\n",
    "\n",
    "При роботі із зображеннями із спотвореннями метод Farneback демонструє гірші [4] показники середньої кутової похибки (Average Angle Error) та середньої похибки кінцевої точки (Average End-Point Error) на датасетах Middlebury [5][6] та Sintel."
   ]
  },
  {
   "cell_type": "markdown",
   "metadata": {},
   "source": [
    "### Використані джерела"
   ]
  },
  {
   "cell_type": "markdown",
   "metadata": {},
   "source": [
    "[1]   Zhi Liu, Jianwen Luo \"Performance comparison of optical flow and block matching methods in shearing and rotating models\", Proc. SPIE 10139, Medical Imaging 2017: Ultrasonic Imaging and Tomography, 1013917 (13 March 2017); https://doi.org/10.1117/12.2253689\n",
    "\n",
    "[2]   Josh Harguess, Chris Barngrover, and Amin Rahimi \"An analysis of optical flow on real and simulated data with degradations\", Proc. SPIE 10199, Geospatial Informatics, Fusion, and Motion Video Analytics VII, 1019905 (1 May 2017); https://doi.org/10.1117/12.2265850\n",
    "\n",
    "[3]   G. Farneback, \"Fast and accurate motion estimation using orientation tensors and parametric motion models,\" Proceedings 15th International Conference on Pattern Recognition. ICPR-2000, Barcelona, Spain, 2000, pp. 135-139 vol.1, doi: 10.1109/ICPR.2000.905291.\n",
    "\n",
    "[4]   J. S. Perez, E. Meinhardt-Llopis, and G. Facciolo. “TV-L1optical flow estimation”, IPOL Journal, 3:137–150, 2013\n",
    "\n",
    "[5] https://vision.middlebury.edu/flow/eval/results/results-a1.php\n",
    "\n",
    "[6] https://vision.middlebury.edu/flow/eval/results/results-e1.php\n"
   ]
  },
  {
   "cell_type": "markdown",
   "metadata": {},
   "source": [
    "<br>"
   ]
  }
 ],
 "metadata": {
  "kernelspec": {
   "display_name": "Python 3",
   "language": "python",
   "name": "python3"
  },
  "language_info": {
   "codemirror_mode": {
    "name": "ipython",
    "version": 3
   },
   "file_extension": ".py",
   "mimetype": "text/x-python",
   "name": "python",
   "nbconvert_exporter": "python",
   "pygments_lexer": "ipython3",
   "version": "3.8.5"
  }
 },
 "nbformat": 4,
 "nbformat_minor": 4
}
